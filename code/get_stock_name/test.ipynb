{
 "cells": [
  {
   "cell_type": "code",
   "execution_count": 2,
   "metadata": {},
   "outputs": [],
   "source": [
    "from get_all_stock_names import get_all_stock_names"
   ]
  },
  {
   "cell_type": "code",
   "execution_count": 3,
   "metadata": {},
   "outputs": [],
   "source": [
    "stock_names = get_all_stock_names()"
   ]
  },
  {
   "cell_type": "code",
   "execution_count": 5,
   "metadata": {},
   "outputs": [],
   "source": [
    "import os\n",
    "import json\n",
    "import shutil\n",
    "\n",
    "# 종목명을 키로, 티커를 값으로 하는 딕셔너리 생성\n",
    "stock_dict = {name: ticker for ticker, name in stock_names}\n",
    "\n",
    "def add_tickers_to_json(src_folder_path, dest_folder_path):\n",
    "    if not os.path.exists(dest_folder_path):\n",
    "        os.makedirs(dest_folder_path)\n",
    "    \n",
    "    for root, dirs, files in os.walk(src_folder_path):\n",
    "        for file in files:\n",
    "            if file.endswith(\".json\"):\n",
    "                src_file_path = os.path.join(root, file)\n",
    "                relative_path = os.path.relpath(src_file_path, src_folder_path)\n",
    "                dest_file_path = os.path.join(dest_folder_path, relative_path)\n",
    "                \n",
    "                os.makedirs(os.path.dirname(dest_file_path), exist_ok=True)\n",
    "\n",
    "                with open(src_file_path, 'r', encoding='utf-8') as f:\n",
    "                    data = json.load(f)\n",
    "                \n",
    "                # data가 리스트임을 가정하고 처리\n",
    "                for item in data:\n",
    "                    content = item.get(\"content\", \"\")\n",
    "                    tickers = []\n",
    "\n",
    "                    for name, ticker in stock_dict.items():\n",
    "                        if name in content:\n",
    "                            tickers.append(ticker)\n",
    "\n",
    "                    if tickers:\n",
    "                        item[\"ticker\"] = tickers\n",
    "\n",
    "                with open(dest_file_path, 'w', encoding='utf-8') as f:\n",
    "                    json.dump(data, f, ensure_ascii=False, indent=4)\n",
    "\n",
    "# 메인 함수 호출\n",
    "src_folder_path = \"../../data/news\"\n",
    "dest_folder_path = \"../../data/news_tickers\"\n",
    "add_tickers_to_json(src_folder_path, dest_folder_path)"
   ]
  },
  {
   "cell_type": "code",
   "execution_count": null,
   "metadata": {},
   "outputs": [],
   "source": []
  }
 ],
 "metadata": {
  "kernelspec": {
   "display_name": "base",
   "language": "python",
   "name": "python3"
  },
  "language_info": {
   "codemirror_mode": {
    "name": "ipython",
    "version": 3
   },
   "file_extension": ".py",
   "mimetype": "text/x-python",
   "name": "python",
   "nbconvert_exporter": "python",
   "pygments_lexer": "ipython3",
   "version": "3.11.9"
  },
  "orig_nbformat": 4
 },
 "nbformat": 4,
 "nbformat_minor": 2
}
